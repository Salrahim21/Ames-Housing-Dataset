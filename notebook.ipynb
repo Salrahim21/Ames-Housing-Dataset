{
 "cells": [
  {
   "cell_type": "code",
   "execution_count": 3,
   "id": "e04d9f46",
   "metadata": {},
   "outputs": [],
   "source": [
    "import pandas as pd \n",
    "import matplotlib.pyplot as plt\n",
    "import seaborn as sns\n"
   ]
  },
  {
   "cell_type": "code",
   "execution_count": 5,
   "id": "730b3633",
   "metadata": {},
   "outputs": [],
   "source": [
    "Ames_Housing=pd.read_csv(\"Ames_Housing_Data.csv\")"
   ]
  },
  {
   "cell_type": "code",
   "execution_count": 6,
   "id": "233d0f57",
   "metadata": {},
   "outputs": [],
   "source": [
    "def explore_dataframe(df, name=\"DataFrame\"): #user defined function to get the shape,info and description of the dataset\n",
    "    print(f\"\\n===== {name} Overview =====\")\n",
    "    \n",
    "    print(\"\\nShape:\")\n",
    "    print(df.shape)\n",
    "    \n",
    "    print(\"\\nInfo:\")\n",
    "    print(\"-\" * 40)\n",
    "    df.info()\n",
    "    \n",
    "    print(\"\\nDescription:\")\n",
    "    print(\"-\" * 40)\n",
    "    print(df.describe(include='all'))"
   ]
  },
  {
   "cell_type": "code",
   "execution_count": 7,
   "id": "9b62d723",
   "metadata": {},
   "outputs": [
    {
     "name": "stdout",
     "output_type": "stream",
     "text": [
      "\n",
      "===== Ames Dataset Overview =====\n",
      "\n",
      "Shape:\n",
      "(2930, 81)\n",
      "\n",
      "Info:\n",
      "----------------------------------------\n",
      "<class 'pandas.core.frame.DataFrame'>\n",
      "RangeIndex: 2930 entries, 0 to 2929\n",
      "Data columns (total 81 columns):\n",
      " #   Column           Non-Null Count  Dtype  \n",
      "---  ------           --------------  -----  \n",
      " 0   PID              2930 non-null   int64  \n",
      " 1   MS SubClass      2930 non-null   int64  \n",
      " 2   MS Zoning        2930 non-null   object \n",
      " 3   Lot Frontage     2440 non-null   float64\n",
      " 4   Lot Area         2930 non-null   int64  \n",
      " 5   Street           2930 non-null   object \n",
      " 6   Alley            198 non-null    object \n",
      " 7   Lot Shape        2930 non-null   object \n",
      " 8   Land Contour     2930 non-null   object \n",
      " 9   Utilities        2930 non-null   object \n",
      " 10  Lot Config       2930 non-null   object \n",
      " 11  Land Slope       2930 non-null   object \n",
      " 12  Neighborhood     2930 non-null   object \n",
      " 13  Condition 1      2930 non-null   object \n",
      " 14  Condition 2      2930 non-null   object \n",
      " 15  Bldg Type        2930 non-null   object \n",
      " 16  House Style      2930 non-null   object \n",
      " 17  Overall Qual     2930 non-null   int64  \n",
      " 18  Overall Cond     2930 non-null   int64  \n",
      " 19  Year Built       2930 non-null   int64  \n",
      " 20  Year Remod/Add   2930 non-null   int64  \n",
      " 21  Roof Style       2930 non-null   object \n",
      " 22  Roof Matl        2930 non-null   object \n",
      " 23  Exterior 1st     2930 non-null   object \n",
      " 24  Exterior 2nd     2930 non-null   object \n",
      " 25  Mas Vnr Type     1155 non-null   object \n",
      " 26  Mas Vnr Area     2907 non-null   float64\n",
      " 27  Exter Qual       2930 non-null   object \n",
      " 28  Exter Cond       2930 non-null   object \n",
      " 29  Foundation       2930 non-null   object \n",
      " 30  Bsmt Qual        2850 non-null   object \n",
      " 31  Bsmt Cond        2850 non-null   object \n",
      " 32  Bsmt Exposure    2847 non-null   object \n",
      " 33  BsmtFin Type 1   2850 non-null   object \n",
      " 34  BsmtFin SF 1     2929 non-null   float64\n",
      " 35  BsmtFin Type 2   2849 non-null   object \n",
      " 36  BsmtFin SF 2     2929 non-null   float64\n",
      " 37  Bsmt Unf SF      2929 non-null   float64\n",
      " 38  Total Bsmt SF    2929 non-null   float64\n",
      " 39  Heating          2930 non-null   object \n",
      " 40  Heating QC       2930 non-null   object \n",
      " 41  Central Air      2930 non-null   object \n",
      " 42  Electrical       2929 non-null   object \n",
      " 43  1st Flr SF       2930 non-null   int64  \n",
      " 44  2nd Flr SF       2930 non-null   int64  \n",
      " 45  Low Qual Fin SF  2930 non-null   int64  \n",
      " 46  Gr Liv Area      2930 non-null   int64  \n",
      " 47  Bsmt Full Bath   2928 non-null   float64\n",
      " 48  Bsmt Half Bath   2928 non-null   float64\n",
      " 49  Full Bath        2930 non-null   int64  \n",
      " 50  Half Bath        2930 non-null   int64  \n",
      " 51  Bedroom AbvGr    2930 non-null   int64  \n",
      " 52  Kitchen AbvGr    2930 non-null   int64  \n",
      " 53  Kitchen Qual     2930 non-null   object \n",
      " 54  TotRms AbvGrd    2930 non-null   int64  \n",
      " 55  Functional       2930 non-null   object \n",
      " 56  Fireplaces       2930 non-null   int64  \n",
      " 57  Fireplace Qu     1508 non-null   object \n",
      " 58  Garage Type      2773 non-null   object \n",
      " 59  Garage Yr Blt    2771 non-null   float64\n",
      " 60  Garage Finish    2771 non-null   object \n",
      " 61  Garage Cars      2929 non-null   float64\n",
      " 62  Garage Area      2929 non-null   float64\n",
      " 63  Garage Qual      2771 non-null   object \n",
      " 64  Garage Cond      2771 non-null   object \n",
      " 65  Paved Drive      2930 non-null   object \n",
      " 66  Wood Deck SF     2930 non-null   int64  \n",
      " 67  Open Porch SF    2930 non-null   int64  \n",
      " 68  Enclosed Porch   2930 non-null   int64  \n",
      " 69  3Ssn Porch       2930 non-null   int64  \n",
      " 70  Screen Porch     2930 non-null   int64  \n",
      " 71  Pool Area        2930 non-null   int64  \n",
      " 72  Pool QC          13 non-null     object \n",
      " 73  Fence            572 non-null    object \n",
      " 74  Misc Feature     106 non-null    object \n",
      " 75  Misc Val         2930 non-null   int64  \n",
      " 76  Mo Sold          2930 non-null   int64  \n",
      " 77  Yr Sold          2930 non-null   int64  \n",
      " 78  Sale Type        2930 non-null   object \n",
      " 79  Sale Condition   2930 non-null   object \n",
      " 80  SalePrice        2930 non-null   int64  \n",
      "dtypes: float64(11), int64(27), object(43)\n",
      "memory usage: 1.8+ MB\n",
      "\n",
      "Description:\n",
      "----------------------------------------\n",
      "                 PID  MS SubClass MS Zoning  Lot Frontage       Lot Area  \\\n",
      "count   2.930000e+03  2930.000000      2930   2440.000000    2930.000000   \n",
      "unique           NaN          NaN         7           NaN            NaN   \n",
      "top              NaN          NaN        RL           NaN            NaN   \n",
      "freq             NaN          NaN      2273           NaN            NaN   \n",
      "mean    7.144645e+08    57.387372       NaN     69.224590   10147.921843   \n",
      "std     1.887308e+08    42.638025       NaN     23.365335    7880.017759   \n",
      "min     5.263011e+08    20.000000       NaN     21.000000    1300.000000   \n",
      "25%     5.284770e+08    20.000000       NaN     58.000000    7440.250000   \n",
      "50%     5.354536e+08    50.000000       NaN     68.000000    9436.500000   \n",
      "75%     9.071811e+08    70.000000       NaN     80.000000   11555.250000   \n",
      "max     1.007100e+09   190.000000       NaN    313.000000  215245.000000   \n",
      "\n",
      "       Street Alley Lot Shape Land Contour Utilities  ...    Pool Area  \\\n",
      "count    2930   198      2930         2930      2930  ...  2930.000000   \n",
      "unique      2     2         4            4         3  ...          NaN   \n",
      "top      Pave  Grvl       Reg          Lvl    AllPub  ...          NaN   \n",
      "freq     2918   120      1859         2633      2927  ...          NaN   \n",
      "mean      NaN   NaN       NaN          NaN       NaN  ...     2.243345   \n",
      "std       NaN   NaN       NaN          NaN       NaN  ...    35.597181   \n",
      "min       NaN   NaN       NaN          NaN       NaN  ...     0.000000   \n",
      "25%       NaN   NaN       NaN          NaN       NaN  ...     0.000000   \n",
      "50%       NaN   NaN       NaN          NaN       NaN  ...     0.000000   \n",
      "75%       NaN   NaN       NaN          NaN       NaN  ...     0.000000   \n",
      "max       NaN   NaN       NaN          NaN       NaN  ...   800.000000   \n",
      "\n",
      "       Pool QC  Fence Misc Feature      Misc Val      Mo Sold      Yr Sold  \\\n",
      "count       13    572          106   2930.000000  2930.000000  2930.000000   \n",
      "unique       4      4            5           NaN          NaN          NaN   \n",
      "top         Ex  MnPrv         Shed           NaN          NaN          NaN   \n",
      "freq         4    330           95           NaN          NaN          NaN   \n",
      "mean       NaN    NaN          NaN     50.635154     6.216041  2007.790444   \n",
      "std        NaN    NaN          NaN    566.344288     2.714492     1.316613   \n",
      "min        NaN    NaN          NaN      0.000000     1.000000  2006.000000   \n",
      "25%        NaN    NaN          NaN      0.000000     4.000000  2007.000000   \n",
      "50%        NaN    NaN          NaN      0.000000     6.000000  2008.000000   \n",
      "75%        NaN    NaN          NaN      0.000000     8.000000  2009.000000   \n",
      "max        NaN    NaN          NaN  17000.000000    12.000000  2010.000000   \n",
      "\n",
      "        Sale Type  Sale Condition      SalePrice  \n",
      "count        2930            2930    2930.000000  \n",
      "unique         10               6            NaN  \n",
      "top           WD           Normal            NaN  \n",
      "freq         2536            2413            NaN  \n",
      "mean          NaN             NaN  180796.060068  \n",
      "std           NaN             NaN   79886.692357  \n",
      "min           NaN             NaN   12789.000000  \n",
      "25%           NaN             NaN  129500.000000  \n",
      "50%           NaN             NaN  160000.000000  \n",
      "75%           NaN             NaN  213500.000000  \n",
      "max           NaN             NaN  755000.000000  \n",
      "\n",
      "[11 rows x 81 columns]\n"
     ]
    }
   ],
   "source": [
    "explore_dataframe(Ames_Housing, name=\"Ames Dataset\") #calling the function"
   ]
  },
  {
   "cell_type": "code",
   "execution_count": 9,
   "id": "8d190c1b",
   "metadata": {},
   "outputs": [
    {
     "data": {
      "text/plain": [
       "Index(['PID', 'MS SubClass', 'MS Zoning', 'Lot Frontage', 'Lot Area', 'Street',\n",
       "       'Alley', 'Lot Shape', 'Land Contour', 'Utilities', 'Lot Config',\n",
       "       'Land Slope', 'Neighborhood', 'Condition 1', 'Condition 2', 'Bldg Type',\n",
       "       'House Style', 'Overall Qual', 'Overall Cond', 'Year Built',\n",
       "       'Year Remod/Add', 'Roof Style', 'Roof Matl', 'Exterior 1st',\n",
       "       'Exterior 2nd', 'Mas Vnr Type', 'Mas Vnr Area', 'Exter Qual',\n",
       "       'Exter Cond', 'Foundation', 'Bsmt Qual', 'Bsmt Cond', 'Bsmt Exposure',\n",
       "       'BsmtFin Type 1', 'BsmtFin SF 1', 'BsmtFin Type 2', 'BsmtFin SF 2',\n",
       "       'Bsmt Unf SF', 'Total Bsmt SF', 'Heating', 'Heating QC', 'Central Air',\n",
       "       'Electrical', '1st Flr SF', '2nd Flr SF', 'Low Qual Fin SF',\n",
       "       'Gr Liv Area', 'Bsmt Full Bath', 'Bsmt Half Bath', 'Full Bath',\n",
       "       'Half Bath', 'Bedroom AbvGr', 'Kitchen AbvGr', 'Kitchen Qual',\n",
       "       'TotRms AbvGrd', 'Functional', 'Fireplaces', 'Fireplace Qu',\n",
       "       'Garage Type', 'Garage Yr Blt', 'Garage Finish', 'Garage Cars',\n",
       "       'Garage Area', 'Garage Qual', 'Garage Cond', 'Paved Drive',\n",
       "       'Wood Deck SF', 'Open Porch SF', 'Enclosed Porch', '3Ssn Porch',\n",
       "       'Screen Porch', 'Pool Area', 'Pool QC', 'Fence', 'Misc Feature',\n",
       "       'Misc Val', 'Mo Sold', 'Yr Sold', 'Sale Type', 'Sale Condition',\n",
       "       'SalePrice'],\n",
       "      dtype='object')"
      ]
     },
     "execution_count": 9,
     "metadata": {},
     "output_type": "execute_result"
    }
   ],
   "source": [
    "Ames_Housing.columns"
   ]
  },
  {
   "cell_type": "code",
   "execution_count": 8,
   "id": "f9e86bf5",
   "metadata": {},
   "outputs": [
    {
     "data": {
      "text/html": [
       "<div>\n",
       "<style scoped>\n",
       "    .dataframe tbody tr th:only-of-type {\n",
       "        vertical-align: middle;\n",
       "    }\n",
       "\n",
       "    .dataframe tbody tr th {\n",
       "        vertical-align: top;\n",
       "    }\n",
       "\n",
       "    .dataframe thead th {\n",
       "        text-align: right;\n",
       "    }\n",
       "</style>\n",
       "<table border=\"1\" class=\"dataframe\">\n",
       "  <thead>\n",
       "    <tr style=\"text-align: right;\">\n",
       "      <th></th>\n",
       "      <th>PID</th>\n",
       "      <th>MS SubClass</th>\n",
       "      <th>MS Zoning</th>\n",
       "      <th>Lot Frontage</th>\n",
       "      <th>Lot Area</th>\n",
       "      <th>Street</th>\n",
       "      <th>Alley</th>\n",
       "      <th>Lot Shape</th>\n",
       "      <th>Land Contour</th>\n",
       "      <th>Utilities</th>\n",
       "      <th>...</th>\n",
       "      <th>Pool Area</th>\n",
       "      <th>Pool QC</th>\n",
       "      <th>Fence</th>\n",
       "      <th>Misc Feature</th>\n",
       "      <th>Misc Val</th>\n",
       "      <th>Mo Sold</th>\n",
       "      <th>Yr Sold</th>\n",
       "      <th>Sale Type</th>\n",
       "      <th>Sale Condition</th>\n",
       "      <th>SalePrice</th>\n",
       "    </tr>\n",
       "  </thead>\n",
       "  <tbody>\n",
       "    <tr>\n",
       "      <th>0</th>\n",
       "      <td>526301100</td>\n",
       "      <td>20</td>\n",
       "      <td>RL</td>\n",
       "      <td>141.0</td>\n",
       "      <td>31770</td>\n",
       "      <td>Pave</td>\n",
       "      <td>NaN</td>\n",
       "      <td>IR1</td>\n",
       "      <td>Lvl</td>\n",
       "      <td>AllPub</td>\n",
       "      <td>...</td>\n",
       "      <td>0</td>\n",
       "      <td>NaN</td>\n",
       "      <td>NaN</td>\n",
       "      <td>NaN</td>\n",
       "      <td>0</td>\n",
       "      <td>5</td>\n",
       "      <td>2010</td>\n",
       "      <td>WD</td>\n",
       "      <td>Normal</td>\n",
       "      <td>215000</td>\n",
       "    </tr>\n",
       "    <tr>\n",
       "      <th>1</th>\n",
       "      <td>526350040</td>\n",
       "      <td>20</td>\n",
       "      <td>RH</td>\n",
       "      <td>80.0</td>\n",
       "      <td>11622</td>\n",
       "      <td>Pave</td>\n",
       "      <td>NaN</td>\n",
       "      <td>Reg</td>\n",
       "      <td>Lvl</td>\n",
       "      <td>AllPub</td>\n",
       "      <td>...</td>\n",
       "      <td>0</td>\n",
       "      <td>NaN</td>\n",
       "      <td>MnPrv</td>\n",
       "      <td>NaN</td>\n",
       "      <td>0</td>\n",
       "      <td>6</td>\n",
       "      <td>2010</td>\n",
       "      <td>WD</td>\n",
       "      <td>Normal</td>\n",
       "      <td>105000</td>\n",
       "    </tr>\n",
       "    <tr>\n",
       "      <th>2</th>\n",
       "      <td>526351010</td>\n",
       "      <td>20</td>\n",
       "      <td>RL</td>\n",
       "      <td>81.0</td>\n",
       "      <td>14267</td>\n",
       "      <td>Pave</td>\n",
       "      <td>NaN</td>\n",
       "      <td>IR1</td>\n",
       "      <td>Lvl</td>\n",
       "      <td>AllPub</td>\n",
       "      <td>...</td>\n",
       "      <td>0</td>\n",
       "      <td>NaN</td>\n",
       "      <td>NaN</td>\n",
       "      <td>Gar2</td>\n",
       "      <td>12500</td>\n",
       "      <td>6</td>\n",
       "      <td>2010</td>\n",
       "      <td>WD</td>\n",
       "      <td>Normal</td>\n",
       "      <td>172000</td>\n",
       "    </tr>\n",
       "    <tr>\n",
       "      <th>3</th>\n",
       "      <td>526353030</td>\n",
       "      <td>20</td>\n",
       "      <td>RL</td>\n",
       "      <td>93.0</td>\n",
       "      <td>11160</td>\n",
       "      <td>Pave</td>\n",
       "      <td>NaN</td>\n",
       "      <td>Reg</td>\n",
       "      <td>Lvl</td>\n",
       "      <td>AllPub</td>\n",
       "      <td>...</td>\n",
       "      <td>0</td>\n",
       "      <td>NaN</td>\n",
       "      <td>NaN</td>\n",
       "      <td>NaN</td>\n",
       "      <td>0</td>\n",
       "      <td>4</td>\n",
       "      <td>2010</td>\n",
       "      <td>WD</td>\n",
       "      <td>Normal</td>\n",
       "      <td>244000</td>\n",
       "    </tr>\n",
       "    <tr>\n",
       "      <th>4</th>\n",
       "      <td>527105010</td>\n",
       "      <td>60</td>\n",
       "      <td>RL</td>\n",
       "      <td>74.0</td>\n",
       "      <td>13830</td>\n",
       "      <td>Pave</td>\n",
       "      <td>NaN</td>\n",
       "      <td>IR1</td>\n",
       "      <td>Lvl</td>\n",
       "      <td>AllPub</td>\n",
       "      <td>...</td>\n",
       "      <td>0</td>\n",
       "      <td>NaN</td>\n",
       "      <td>MnPrv</td>\n",
       "      <td>NaN</td>\n",
       "      <td>0</td>\n",
       "      <td>3</td>\n",
       "      <td>2010</td>\n",
       "      <td>WD</td>\n",
       "      <td>Normal</td>\n",
       "      <td>189900</td>\n",
       "    </tr>\n",
       "  </tbody>\n",
       "</table>\n",
       "<p>5 rows × 81 columns</p>\n",
       "</div>"
      ],
      "text/plain": [
       "         PID  MS SubClass MS Zoning  Lot Frontage  Lot Area Street Alley  \\\n",
       "0  526301100           20        RL         141.0     31770   Pave   NaN   \n",
       "1  526350040           20        RH          80.0     11622   Pave   NaN   \n",
       "2  526351010           20        RL          81.0     14267   Pave   NaN   \n",
       "3  526353030           20        RL          93.0     11160   Pave   NaN   \n",
       "4  527105010           60        RL          74.0     13830   Pave   NaN   \n",
       "\n",
       "  Lot Shape Land Contour Utilities  ... Pool Area Pool QC  Fence Misc Feature  \\\n",
       "0       IR1          Lvl    AllPub  ...         0     NaN    NaN          NaN   \n",
       "1       Reg          Lvl    AllPub  ...         0     NaN  MnPrv          NaN   \n",
       "2       IR1          Lvl    AllPub  ...         0     NaN    NaN         Gar2   \n",
       "3       Reg          Lvl    AllPub  ...         0     NaN    NaN          NaN   \n",
       "4       IR1          Lvl    AllPub  ...         0     NaN  MnPrv          NaN   \n",
       "\n",
       "  Misc Val Mo Sold Yr Sold  Sale Type  Sale Condition  SalePrice  \n",
       "0        0       5    2010        WD           Normal     215000  \n",
       "1        0       6    2010        WD           Normal     105000  \n",
       "2    12500       6    2010        WD           Normal     172000  \n",
       "3        0       4    2010        WD           Normal     244000  \n",
       "4        0       3    2010        WD           Normal     189900  \n",
       "\n",
       "[5 rows x 81 columns]"
      ]
     },
     "execution_count": 8,
     "metadata": {},
     "output_type": "execute_result"
    }
   ],
   "source": [
    "Ames_Housing.head()"
   ]
  },
  {
   "cell_type": "code",
   "execution_count": 11,
   "id": "dcbb3f8f",
   "metadata": {},
   "outputs": [
    {
     "name": "stdout",
     "output_type": "stream",
     "text": [
      "Pool QC         99.556314\n",
      "Misc Feature    96.382253\n",
      "Alley           93.242321\n",
      "Fence           80.477816\n",
      "Mas Vnr Type    60.580205\n",
      "                  ...    \n",
      "MS SubClass      0.000000\n",
      "Central Air      0.000000\n",
      "1st Flr SF       0.000000\n",
      "2nd Flr SF       0.000000\n",
      "SalePrice        0.000000\n",
      "Length: 81, dtype: float64\n"
     ]
    }
   ],
   "source": [
    "# Calculate missing percentages\n",
    "missing_percentage = (Ames_Housing.isnull().sum() / len(Ames_Housing)) * 100\n",
    "\n",
    "# Display missing values sorted in descending order\n",
    "print(missing_percentage.sort_values(ascending=False))"
   ]
  },
  {
   "cell_type": "code",
   "execution_count": 13,
   "id": "35b7d9c1",
   "metadata": {},
   "outputs": [
    {
     "name": "stdout",
     "output_type": "stream",
     "text": [
      "PID              0.0\n",
      "Central Air      0.0\n",
      "Garage Yr Blt    0.0\n",
      "Garage Type      0.0\n",
      "Fireplace Qu     0.0\n",
      "                ... \n",
      "Mas Vnr Area     0.0\n",
      "Mas Vnr Type     0.0\n",
      "Exterior 2nd     0.0\n",
      "Exterior 1st     0.0\n",
      "SalePrice        0.0\n",
      "Length: 81, dtype: float64\n"
     ]
    }
   ],
   "source": [
    "def input_missing_values(df):\n",
    "    for col in df.columns:\n",
    "        if df[col].isnull().sum() > 0:\n",
    "            if pd.api.types.is_numeric_dtype(df[col]):\n",
    "                # If numeric, fill missing values with the median\n",
    "                df[col].fillna(df[col].median(), inplace=True)\n",
    "            elif pd.api.types.is_object_dtype(df[col]):\n",
    "                # If categorical, fill missing values with the mode\n",
    "                df[col].fillna(df[col].mode()[0], inplace=True)\n",
    "            elif pd.api.types.is_datetime64_any_dtype(df[col]):\n",
    "                # If date column, fill missing dates with the most frequent date or median\n",
    "                df[col].fillna(df[col].mode()[0], inplace=True)\n",
    "                \n",
    "    return df\n",
    "\n",
    "# Assuming df is your DataFrame\n",
    "Ames_Housing_cleaned = input_missing_values(Ames_Housing)\n",
    "\n",
    "\n",
    "\n",
    "# Calculate missing percentages\n",
    "missing_percentage = (Ames_Housing_cleaned.isnull().sum() / len(Ames_Housing_cleaned)) * 100\n",
    "\n",
    "# Display missing values sorted in descending order\n",
    "print(missing_percentage.sort_values(ascending=False))\n"
   ]
  },
  {
   "cell_type": "markdown",
   "id": "6a4f83eb",
   "metadata": {},
   "source": [
    "## Feature Engineering"
   ]
  },
  {
   "cell_type": "code",
   "execution_count": 16,
   "id": "5cf5ae41",
   "metadata": {},
   "outputs": [
    {
     "data": {
      "text/html": [
       "<div>\n",
       "<style scoped>\n",
       "    .dataframe tbody tr th:only-of-type {\n",
       "        vertical-align: middle;\n",
       "    }\n",
       "\n",
       "    .dataframe tbody tr th {\n",
       "        vertical-align: top;\n",
       "    }\n",
       "\n",
       "    .dataframe thead th {\n",
       "        text-align: right;\n",
       "    }\n",
       "</style>\n",
       "<table border=\"1\" class=\"dataframe\">\n",
       "  <thead>\n",
       "    <tr style=\"text-align: right;\">\n",
       "      <th></th>\n",
       "      <th>TotalBath</th>\n",
       "      <th>HouseAge</th>\n",
       "      <th>RemodAge</th>\n",
       "      <th>TotalSF</th>\n",
       "      <th>TotalPorchSF</th>\n",
       "      <th>IsRemodeled</th>\n",
       "      <th>HasGarage</th>\n",
       "      <th>DecadeBuilt</th>\n",
       "      <th>NeighborhoodGrouped_CollgCr</th>\n",
       "      <th>NeighborhoodGrouped_Crawfor</th>\n",
       "      <th>...</th>\n",
       "      <th>NeighborhoodGrouped_NWAmes</th>\n",
       "      <th>NeighborhoodGrouped_NoRidge</th>\n",
       "      <th>NeighborhoodGrouped_NridgHt</th>\n",
       "      <th>NeighborhoodGrouped_OldTown</th>\n",
       "      <th>NeighborhoodGrouped_Other</th>\n",
       "      <th>NeighborhoodGrouped_Sawyer</th>\n",
       "      <th>NeighborhoodGrouped_SawyerW</th>\n",
       "      <th>NeighborhoodGrouped_Somerst</th>\n",
       "      <th>NeighborhoodGrouped_StoneBr</th>\n",
       "      <th>NeighborhoodGrouped_Timber</th>\n",
       "    </tr>\n",
       "  </thead>\n",
       "  <tbody>\n",
       "    <tr>\n",
       "      <th>0</th>\n",
       "      <td>2.0</td>\n",
       "      <td>50</td>\n",
       "      <td>50</td>\n",
       "      <td>2736.0</td>\n",
       "      <td>62</td>\n",
       "      <td>0</td>\n",
       "      <td>1</td>\n",
       "      <td>1960</td>\n",
       "      <td>False</td>\n",
       "      <td>False</td>\n",
       "      <td>...</td>\n",
       "      <td>False</td>\n",
       "      <td>False</td>\n",
       "      <td>False</td>\n",
       "      <td>False</td>\n",
       "      <td>False</td>\n",
       "      <td>False</td>\n",
       "      <td>False</td>\n",
       "      <td>False</td>\n",
       "      <td>False</td>\n",
       "      <td>False</td>\n",
       "    </tr>\n",
       "    <tr>\n",
       "      <th>1</th>\n",
       "      <td>1.0</td>\n",
       "      <td>49</td>\n",
       "      <td>49</td>\n",
       "      <td>1778.0</td>\n",
       "      <td>120</td>\n",
       "      <td>0</td>\n",
       "      <td>1</td>\n",
       "      <td>1960</td>\n",
       "      <td>False</td>\n",
       "      <td>False</td>\n",
       "      <td>...</td>\n",
       "      <td>False</td>\n",
       "      <td>False</td>\n",
       "      <td>False</td>\n",
       "      <td>False</td>\n",
       "      <td>False</td>\n",
       "      <td>False</td>\n",
       "      <td>False</td>\n",
       "      <td>False</td>\n",
       "      <td>False</td>\n",
       "      <td>False</td>\n",
       "    </tr>\n",
       "    <tr>\n",
       "      <th>2</th>\n",
       "      <td>1.5</td>\n",
       "      <td>52</td>\n",
       "      <td>52</td>\n",
       "      <td>2658.0</td>\n",
       "      <td>36</td>\n",
       "      <td>0</td>\n",
       "      <td>1</td>\n",
       "      <td>1950</td>\n",
       "      <td>False</td>\n",
       "      <td>False</td>\n",
       "      <td>...</td>\n",
       "      <td>False</td>\n",
       "      <td>False</td>\n",
       "      <td>False</td>\n",
       "      <td>False</td>\n",
       "      <td>False</td>\n",
       "      <td>False</td>\n",
       "      <td>False</td>\n",
       "      <td>False</td>\n",
       "      <td>False</td>\n",
       "      <td>False</td>\n",
       "    </tr>\n",
       "    <tr>\n",
       "      <th>3</th>\n",
       "      <td>3.5</td>\n",
       "      <td>42</td>\n",
       "      <td>42</td>\n",
       "      <td>4220.0</td>\n",
       "      <td>0</td>\n",
       "      <td>0</td>\n",
       "      <td>1</td>\n",
       "      <td>1960</td>\n",
       "      <td>False</td>\n",
       "      <td>False</td>\n",
       "      <td>...</td>\n",
       "      <td>False</td>\n",
       "      <td>False</td>\n",
       "      <td>False</td>\n",
       "      <td>False</td>\n",
       "      <td>False</td>\n",
       "      <td>False</td>\n",
       "      <td>False</td>\n",
       "      <td>False</td>\n",
       "      <td>False</td>\n",
       "      <td>False</td>\n",
       "    </tr>\n",
       "    <tr>\n",
       "      <th>4</th>\n",
       "      <td>2.5</td>\n",
       "      <td>13</td>\n",
       "      <td>12</td>\n",
       "      <td>2557.0</td>\n",
       "      <td>34</td>\n",
       "      <td>1</td>\n",
       "      <td>1</td>\n",
       "      <td>1990</td>\n",
       "      <td>False</td>\n",
       "      <td>False</td>\n",
       "      <td>...</td>\n",
       "      <td>False</td>\n",
       "      <td>False</td>\n",
       "      <td>False</td>\n",
       "      <td>False</td>\n",
       "      <td>False</td>\n",
       "      <td>False</td>\n",
       "      <td>False</td>\n",
       "      <td>False</td>\n",
       "      <td>False</td>\n",
       "      <td>False</td>\n",
       "    </tr>\n",
       "  </tbody>\n",
       "</table>\n",
       "<p>5 rows × 25 columns</p>\n",
       "</div>"
      ],
      "text/plain": [
       "   TotalBath  HouseAge  RemodAge  TotalSF  TotalPorchSF  IsRemodeled  \\\n",
       "0        2.0        50        50   2736.0            62            0   \n",
       "1        1.0        49        49   1778.0           120            0   \n",
       "2        1.5        52        52   2658.0            36            0   \n",
       "3        3.5        42        42   4220.0             0            0   \n",
       "4        2.5        13        12   2557.0            34            1   \n",
       "\n",
       "   HasGarage  DecadeBuilt  NeighborhoodGrouped_CollgCr  \\\n",
       "0          1         1960                        False   \n",
       "1          1         1960                        False   \n",
       "2          1         1950                        False   \n",
       "3          1         1960                        False   \n",
       "4          1         1990                        False   \n",
       "\n",
       "   NeighborhoodGrouped_Crawfor  ...  NeighborhoodGrouped_NWAmes  \\\n",
       "0                        False  ...                       False   \n",
       "1                        False  ...                       False   \n",
       "2                        False  ...                       False   \n",
       "3                        False  ...                       False   \n",
       "4                        False  ...                       False   \n",
       "\n",
       "   NeighborhoodGrouped_NoRidge  NeighborhoodGrouped_NridgHt  \\\n",
       "0                        False                        False   \n",
       "1                        False                        False   \n",
       "2                        False                        False   \n",
       "3                        False                        False   \n",
       "4                        False                        False   \n",
       "\n",
       "   NeighborhoodGrouped_OldTown  NeighborhoodGrouped_Other  \\\n",
       "0                        False                      False   \n",
       "1                        False                      False   \n",
       "2                        False                      False   \n",
       "3                        False                      False   \n",
       "4                        False                      False   \n",
       "\n",
       "   NeighborhoodGrouped_Sawyer  NeighborhoodGrouped_SawyerW  \\\n",
       "0                       False                        False   \n",
       "1                       False                        False   \n",
       "2                       False                        False   \n",
       "3                       False                        False   \n",
       "4                       False                        False   \n",
       "\n",
       "   NeighborhoodGrouped_Somerst  NeighborhoodGrouped_StoneBr  \\\n",
       "0                        False                        False   \n",
       "1                        False                        False   \n",
       "2                        False                        False   \n",
       "3                        False                        False   \n",
       "4                        False                        False   \n",
       "\n",
       "   NeighborhoodGrouped_Timber  \n",
       "0                       False  \n",
       "1                       False  \n",
       "2                       False  \n",
       "3                       False  \n",
       "4                       False  \n",
       "\n",
       "[5 rows x 25 columns]"
      ]
     },
     "execution_count": 16,
     "metadata": {},
     "output_type": "execute_result"
    }
   ],
   "source": [
    "\n",
    "\n",
    "# Copy the original data to avoid modifying it directly\n",
    "df = Ames_Housing.copy()\n",
    "\n",
    "# 1. Total Bathrooms (including basement baths, weighted)\n",
    "df['TotalBath'] = (df['Full Bath'] + 0.5 * df['Half Bath'] +\n",
    "                   df['Bsmt Full Bath'] + 0.5 * df['Bsmt Half Bath'])\n",
    "\n",
    "# 2. House Age at Sale\n",
    "df['HouseAge'] = df['Yr Sold'] - df['Year Built']\n",
    "\n",
    "# 3. Years Since Remodel\n",
    "df['RemodAge'] = df['Yr Sold'] - df['Year Remod/Add']\n",
    "\n",
    "# 4. Total Square Footage (above ground + basement)\n",
    "df['TotalSF'] = df['1st Flr SF'] + df['2nd Flr SF'] + df['Total Bsmt SF']\n",
    "\n",
    "# 5. Total Porch Area\n",
    "df['TotalPorchSF'] = (df['Open Porch SF'] + df['Enclosed Porch'] +\n",
    "                      df['3Ssn Porch'] + df['Screen Porch'])\n",
    "\n",
    "# 6. Was the house remodeled?\n",
    "df['IsRemodeled'] = (df['Year Built'] != df['Year Remod/Add']).astype(int)\n",
    "\n",
    "# 7. Does the house have a garage?\n",
    "df['HasGarage'] = (df['Garage Area'] > 0).astype(int)\n",
    "\n",
    "\n",
    "\n",
    "\n",
    "# 10. Binning Year Built into Decades\n",
    "df['DecadeBuilt'] = (df['Year Built'] // 10) * 10\n",
    "\n",
    "# 11. Grouping rare neighborhoods\n",
    "neigh_counts = df['Neighborhood'].value_counts()\n",
    "rare_neigh = neigh_counts[neigh_counts < 50].index\n",
    "df['NeighborhoodGrouped'] = df['Neighborhood'].apply(lambda x: 'Other' if x in rare_neigh else x)\n",
    "\n",
    "# 12. One-hot encode NeighborhoodGrouped\n",
    "df = pd.get_dummies(df, columns=['NeighborhoodGrouped'], drop_first=True)\n",
    "\n",
    "# Preview engineered dataset\n",
    "df[['TotalBath', 'HouseAge', 'RemodAge', 'TotalSF', 'TotalPorchSF',\n",
    "    'IsRemodeled', 'HasGarage', 'DecadeBuilt'] + \n",
    "   [col for col in df.columns if col.startswith('NeighborhoodGrouped_')]].head()\n"
   ]
  },
  {
   "cell_type": "markdown",
   "id": "5c4b5c3f",
   "metadata": {},
   "source": []
  },
  {
   "cell_type": "markdown",
   "id": "b6015536",
   "metadata": {},
   "source": [
    "## Hypothesis Testing"
   ]
  },
  {
   "cell_type": "markdown",
   "id": "490db68a",
   "metadata": {},
   "source": [
    " ### Hypothesis 1: Total Square Footage Affects Sale Price"
   ]
  },
  {
   "cell_type": "markdown",
   "id": "5f23f9f0",
   "metadata": {},
   "source": [
    "Null Hypothesis (H₀): There is no difference in sale prices between homes with above-median and below-median TotalSF.\n",
    "Alternative Hypothesis (H₁): Homes with above-median TotalSF have higher sale prices."
   ]
  },
  {
   "cell_type": "code",
   "execution_count": 17,
   "id": "da010e74",
   "metadata": {},
   "outputs": [
    {
     "name": "stdout",
     "output_type": "stream",
     "text": [
      "Hypothesis 1 - TotalSF t-test:\n",
      "T-statistic: 41.8467, P-value: 0.0000\n"
     ]
    }
   ],
   "source": [
    "from scipy import stats\n",
    "\n",
    "# Median split\n",
    "median_sf = df['TotalSF'].median()\n",
    "group_high_sf = df[df['TotalSF'] > median_sf]['SalePrice']\n",
    "group_low_sf = df[df['TotalSF'] <= median_sf]['SalePrice']\n",
    "\n",
    "# Independent t-test\n",
    "t_stat1, p_val1 = stats.ttest_ind(group_high_sf, group_low_sf)\n",
    "print(\"Hypothesis 1 - TotalSF t-test:\")\n",
    "print(f\"T-statistic: {t_stat1:.4f}, P-value: {p_val1:.4f}\")\n"
   ]
  },
  {
   "cell_type": "markdown",
   "id": "1d29b594",
   "metadata": {},
   "source": [
    "## Hypothesis 2: More Bathrooms Lead to Higher Prices"
   ]
  },
  {
   "cell_type": "markdown",
   "id": "8d2bc8b1",
   "metadata": {},
   "source": [
    "H₀: Homes with more than 2 bathrooms don’t have significantly different prices than those with 2 or fewer.\n",
    "H₁: Homes with more than 2 bathrooms have higher sale prices."
   ]
  },
  {
   "cell_type": "code",
   "execution_count": 18,
   "id": "6bcfac87",
   "metadata": {},
   "outputs": [
    {
     "name": "stdout",
     "output_type": "stream",
     "text": [
      "Hypothesis 2 - TotalBath t-test:\n",
      "T-statistic: 36.7966, P-value: 0.0000\n"
     ]
    }
   ],
   "source": [
    "group_more_bath = df[df['TotalBath'] > 2]['SalePrice']\n",
    "group_fewer_bath = df[df['TotalBath'] <= 2]['SalePrice']\n",
    "\n",
    "t_stat2, p_val2 = stats.ttest_ind(group_more_bath, group_fewer_bath)\n",
    "print(\"Hypothesis 2 - TotalBath t-test:\")\n",
    "print(f\"T-statistic: {t_stat2:.4f}, P-value: {p_val2:.4f}\")\n"
   ]
  },
  {
   "cell_type": "markdown",
   "id": "aa51552f",
   "metadata": {},
   "source": [
    "## Hypothesis 3: Neighborhood Affects Price"
   ]
  },
  {
   "cell_type": "code",
   "execution_count": 19,
   "id": "b3442ce8",
   "metadata": {},
   "outputs": [
    {
     "name": "stdout",
     "output_type": "stream",
     "text": [
      "Hypothesis 3 - Neighborhood t-test:\n",
      "T-statistic: 40.3637, P-value: 0.0000\n"
     ]
    }
   ],
   "source": [
    "# Get mean prices per neighborhood\n",
    "neigh_price = df.groupby('Neighborhood')['SalePrice'].mean()\n",
    "high_price_neigh = neigh_price[neigh_price > neigh_price.mean()].index\n",
    "\n",
    "group_high_neigh = df[df['Neighborhood'].isin(high_price_neigh)]['SalePrice']\n",
    "group_other_neigh = df[~df['Neighborhood'].isin(high_price_neigh)]['SalePrice']\n",
    "\n",
    "t_stat3, p_val3 = stats.ttest_ind(group_high_neigh, group_other_neigh)\n",
    "print(\"Hypothesis 3 - Neighborhood t-test:\")\n",
    "print(f\"T-statistic: {t_stat3:.4f}, P-value: {p_val3:.4f}\")\n"
   ]
  },
  {
   "cell_type": "markdown",
   "id": "84bef7cf",
   "metadata": {},
   "source": [
    "## Visualizations"
   ]
  },
  {
   "cell_type": "code",
   "execution_count": 32,
   "id": "093154a9",
   "metadata": {},
   "outputs": [
    {
     "data": {
      "image/png": "[encoded data removed]",
      "text/plain": [
       "<Figure size 576x360 with 1 Axes>"
      ]
     },
     "metadata": {
      "needs_background": "light"
     },
     "output_type": "display_data"
    }
   ],
   "source": [
    "plt.figure(figsize=(8, 5))\n",
    "sns.scatterplot(data=df, x='TotalSF', y='SalePrice')\n",
    "plt.title('SalePrice vs Total Square Footage')\n",
    "plt.xlabel('Total Square Footage')\n",
    "plt.ylabel('SalePrice')\n",
    "plt.show()\n"
   ]
  },
  {
   "cell_type": "code",
   "execution_count": 33,
   "id": "4c7608ff",
   "metadata": {},
   "outputs": [
    {
     "data": {
      "image/png": "[encoded data removed]",
      "text/plain": [
       "<Figure size 576x360 with 1 Axes>"
      ]
     },
     "metadata": {
      "needs_background": "light"
     },
     "output_type": "display_data"
    }
   ],
   "source": [
    "plt.figure(figsize=(8, 5))\n",
    "sns.boxplot(data=df, x='TotalBath', y='SalePrice')\n",
    "plt.title('SalePrice vs Total Bathrooms')\n",
    "plt.xlabel('Total Bathrooms')\n",
    "plt.ylabel('SalePrice')\n",
    "plt.show()\n"
   ]
  },
  {
   "cell_type": "code",
   "execution_count": 34,
   "id": "75ce7f02",
   "metadata": {},
   "outputs": [
    {
     "data": {
      "image/png": "[encoded data removed]",
      "text/plain": [
       "<Figure size 432x288 with 1 Axes>"
      ]
     },
     "metadata": {
      "needs_background": "light"
     },
     "output_type": "display_data"
    }
   ],
   "source": [
    "plt.figure(figsize=(6, 4))\n",
    "sns.boxplot(data=df, x='HasGarage', y='SalePrice')\n",
    "plt.title('SalePrice vs HasGarage')\n",
    "plt.xlabel('Has Garage (0 = No, 1 = Yes)')\n",
    "plt.ylabel('SalePrice')\n",
    "plt.show()\n"
   ]
  },
  {
   "cell_type": "code",
   "execution_count": 35,
   "id": "aed1285a",
   "metadata": {},
   "outputs": [
    {
     "data": {
      "image/png": "[encoded data removed]",
      "text/plain": [
       "<Figure size 720x360 with 1 Axes>"
      ]
     },
     "metadata": {
      "needs_background": "light"
     },
     "output_type": "display_data"
    }
   ],
   "source": [
    "plt.figure(figsize=(10, 5))\n",
    "sns.boxplot(data=df, x='DecadeBuilt', y='SalePrice')\n",
    "plt.xticks(rotation=45)\n",
    "plt.title('SalePrice by Decade Built')\n",
    "plt.xlabel('Decade Built')\n",
    "plt.ylabel('SalePrice')\n",
    "plt.show()\n"
   ]
  },
  {
   "cell_type": "code",
   "execution_count": 39,
   "id": "e7434c4a",
   "metadata": {},
   "outputs": [
    {
     "data": {
      "image/png": "[encoded data removed]",
      "text/plain": [
       "<Figure size 720x432 with 1 Axes>"
      ]
     },
     "metadata": {
      "needs_background": "light"
     },
     "output_type": "display_data"
    }
   ],
   "source": [
    "# Filter the DataFrame for only the top 6 neighborhoods\n",
    "# Calculate average SalePrice by Neighborhood\n",
    "top6_neighborhoods = df.groupby('Neighborhood')['SalePrice'].mean().sort_values(ascending=False).head(6)\n",
    "\n",
    "\n",
    "top6_names = top6_neighborhoods.index\n",
    "df_top6 = df[df['Neighborhood'].isin(top6_names)]\n",
    "\n",
    "plt.figure(figsize=(10, 6))\n",
    "sns.boxplot(data=df_top6, x='Neighborhood', y='SalePrice', order=top6_names)\n",
    "plt.title('SalePrice Distribution - Top 6 Neighborhoods')\n",
    "plt.ylabel('SalePrice')\n",
    "plt.xlabel('Neighborhood')\n",
    "plt.show()\n",
    "\n"
   ]
  },
  {
   "cell_type": "markdown",
   "id": "58c1e431",
   "metadata": {},
   "source": [
    "# Model"
   ]
  },
  {
   "cell_type": "code",
   "execution_count": 24,
   "id": "66f94e6f",
   "metadata": {},
   "outputs": [],
   "source": [
    "# Assuming you already have a DataFrame X with all predictors\n",
    "import pandas as pd\n",
    "\n",
    "# Example: selecting relevant features from your engineered dataset\n",
    "X = df[['TotalSF', 'TotalBath'] + [col for col in df.columns if col.startswith('NeighborhoodGrouped_')]]\n",
    "\n",
    "# Add constant for intercept in OLS model\n",
    "import statsmodels.api as sm\n",
    "X_clean = sm.add_constant(X)\n",
    "\n",
    "# Convert boolean columns to integers\n",
    "X_clean = X_clean.astype({col: int for col in X_clean.select_dtypes('bool').columns})\n"
   ]
  },
  {
   "cell_type": "code",
   "execution_count": 25,
   "id": "045b1335",
   "metadata": {},
   "outputs": [
    {
     "name": "stdout",
     "output_type": "stream",
     "text": [
      "                            OLS Regression Results                            \n",
      "==============================================================================\n",
      "Dep. Variable:              SalePrice   R-squared:                       0.775\n",
      "Model:                            OLS   Adj. R-squared:                  0.774\n",
      "Method:                 Least Squares   F-statistic:                     528.2\n",
      "Date:                Sun, 18 May 2025   Prob (F-statistic):               0.00\n",
      "Time:                        15:34:39   Log-Likelihood:                -35045.\n",
      "No. Observations:                2930   AIC:                         7.013e+04\n",
      "Df Residuals:                    2910   BIC:                         7.025e+04\n",
      "Df Model:                          19                                         \n",
      "Covariance Type:            nonrobust                                         \n",
      "===============================================================================================\n",
      "                                  coef    std err          t      P>|t|      [0.025      0.975]\n",
      "-----------------------------------------------------------------------------------------------\n",
      "const                        4142.6542   4259.182      0.973      0.331   -4208.662    1.25e+04\n",
      "TotalSF                        49.9116      1.201     41.561      0.000      47.557      52.266\n",
      "TotalBath                     1.43e+04   1211.814     11.799      0.000    1.19e+04    1.67e+04\n",
      "NeighborhoodGrouped_CollgCr  2.976e+04   4467.763      6.662      0.000     2.1e+04    3.85e+04\n",
      "NeighborhoodGrouped_Crawfor  3.481e+04   5309.565      6.557      0.000    2.44e+04    4.52e+04\n",
      "NeighborhoodGrouped_Edwards -1.165e+04   4588.333     -2.540      0.011   -2.07e+04   -2656.668\n",
      "NeighborhoodGrouped_Gilbert  2.385e+04   4872.061      4.894      0.000    1.43e+04    3.34e+04\n",
      "NeighborhoodGrouped_IDOTRR  -1.531e+04   5376.508     -2.848      0.004   -2.59e+04   -4770.684\n",
      "NeighborhoodGrouped_Mitchel  5833.1172   5168.767      1.129      0.259   -4301.696     1.6e+04\n",
      "NeighborhoodGrouped_NAmes   -1538.3531   4102.718     -0.375      0.708   -9582.879    6506.173\n",
      "NeighborhoodGrouped_NWAmes   4460.1033   5091.589      0.876      0.381   -5523.381    1.44e+04\n",
      "NeighborhoodGrouped_NoRidge  8.436e+04   6232.267     13.536      0.000    7.21e+04    9.66e+04\n",
      "NeighborhoodGrouped_NridgHt  9.889e+04   5040.090     19.621      0.000     8.9e+04    1.09e+05\n",
      "NeighborhoodGrouped_OldTown -1.335e+04   4411.730     -3.025      0.003    -2.2e+04   -4696.916\n",
      "NeighborhoodGrouped_Other    5725.2997   4431.807      1.292      0.197   -2964.498    1.44e+04\n",
      "NeighborhoodGrouped_Sawyer   -220.2064   4805.342     -0.046      0.963   -9642.422    9202.009\n",
      "NeighborhoodGrouped_SawyerW  1.359e+04   5133.466      2.646      0.008    3520.113    2.37e+04\n",
      "NeighborhoodGrouped_Somerst  4.835e+04   4795.549     10.083      0.000    3.89e+04    5.78e+04\n",
      "NeighborhoodGrouped_StoneBr  1.028e+05   6710.032     15.325      0.000    8.97e+04    1.16e+05\n",
      "NeighborhoodGrouped_Timber   4.894e+04   5966.141      8.203      0.000    3.72e+04    6.06e+04\n",
      "==============================================================================\n",
      "Omnibus:                      730.580   Durbin-Watson:                   1.628\n",
      "Prob(Omnibus):                  0.000   Jarque-Bera (JB):            37852.448\n",
      "Skew:                          -0.292   Prob(JB):                         0.00\n",
      "Kurtosis:                      20.599   Cond. No.                     6.20e+04\n",
      "==============================================================================\n",
      "\n",
      "Notes:\n",
      "[1] Standard Errors assume that the covariance matrix of the errors is correctly specified.\n",
      "[2] The condition number is large, 6.2e+04. This might indicate that there are\n",
      "strong multicollinearity or other numerical problems.\n"
     ]
    }
   ],
   "source": [
    "y_clean = df['SalePrice']\n",
    "model = sm.OLS(y_clean, X_clean).fit()\n",
    "print(model.summary())\n"
   ]
  },
  {
   "cell_type": "markdown",
   "id": "467de7d5",
   "metadata": {},
   "source": []
  },
  {
   "cell_type": "code",
   "execution_count": null,
   "id": "ea2dc7f9",
   "metadata": {},
   "outputs": [
    {
     "name": "stdout",
     "output_type": "stream",
     "text": [
      "0       47241.022165\n",
      "1        -645.401433\n",
      "2       15283.252943\n",
      "3      -19275.188321\n",
      "4       -1457.520551\n",
      "            ...     \n",
      "2925     3805.030500\n",
      "2926     4283.817985\n",
      "2927     6643.195546\n",
      "2928    -7226.735912\n",
      "2929    -7256.592723\n",
      "Length: 2930, dtype: float64\n"
     ]
    }
   ],
   "source": [
    "import statsmodels.api as sm\n",
    "\n",
    "# Fit the model\n",
    "model = sm.OLS(y_clean, X_clean).fit()\n",
    "\n",
    "# Fitted values (predicted SalePrice)\n",
    "fitted_vals = model.fittedvalues\n",
    "\n",
    "# Residuals (actual - predicted)\n",
    "residuals = model.resid\n",
    "\n"
   ]
  },
  {
   "cell_type": "code",
   "execution_count": 29,
   "id": "5187339c",
   "metadata": {},
   "outputs": [
    {
     "data": {
      "image/png": "[encoded data removed]",
      "text/plain": [
       "<Figure size 576x360 with 1 Axes>"
      ]
     },
     "metadata": {
      "needs_background": "light"
     },
     "output_type": "display_data"
    }
   ],
   "source": [
    "import matplotlib.pyplot as plt\n",
    "import seaborn as sns\n",
    "\n",
    "plt.figure(figsize=(8, 5))\n",
    "sns.scatterplot(x=fitted_vals, y=residuals)\n",
    "plt.axhline(0, color='red', linestyle='--')\n",
    "plt.xlabel(\"Fitted Values (Predicted SalePrice)\")\n",
    "plt.ylabel(\"Residuals\")\n",
    "plt.title(\"Residuals vs Fitted Values\")\n",
    "plt.show()\n"
   ]
  },
  {
   "cell_type": "code",
   "execution_count": 30,
   "id": "38a6657d",
   "metadata": {},
   "outputs": [
    {
     "data": {
      "image/png": "[encoded data removed]",
      "text/plain": [
       "<Figure size 576x360 with 1 Axes>"
      ]
     },
     "metadata": {
      "needs_background": "light"
     },
     "output_type": "display_data"
    }
   ],
   "source": [
    "plt.figure(figsize=(8, 5))\n",
    "sns.histplot(residuals, kde=True)\n",
    "plt.title(\"Histogram of Residuals\")\n",
    "plt.xlabel(\"Residual\")\n",
    "plt.show()\n"
   ]
  },
  {
   "cell_type": "code",
   "execution_count": 31,
   "id": "f44372f8",
   "metadata": {},
   "outputs": [
    {
     "data": {
      "image/png": "[encoded data removed]",
      "text/plain": [
       "<Figure size 432x288 with 1 Axes>"
      ]
     },
     "metadata": {
      "needs_background": "light"
     },
     "output_type": "display_data"
    }
   ],
   "source": [
    "sm.qqplot(residuals, line='45', fit=True)\n",
    "plt.title(\"Q-Q Plot of Residuals\")\n",
    "plt.show()\n"
   ]
  }
 ],
 "metadata": {
  "kernelspec": {
   "display_name": "learn-env",
   "language": "python",
   "name": "python3"
  },
  "language_info": {
   "codemirror_mode": {
    "name": "ipython",
    "version": 3
   },
   "file_extension": ".py",
   "mimetype": "text/x-python",
   "name": "python",
   "nbconvert_exporter": "python",
   "pygments_lexer": "ipython3",
   "version": "3.8.5"
  }
 },
 "nbformat": 4,
 "nbformat_minor": 5
}
